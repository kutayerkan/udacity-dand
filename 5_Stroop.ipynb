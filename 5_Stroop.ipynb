{
 "cells": [
  {
   "cell_type": "markdown",
   "metadata": {},
   "source": [
    "# Stroop Effect"
   ]
  },
  {
   "cell_type": "markdown",
   "metadata": {},
   "source": [
    "## What is Stroop Effect?"
   ]
  },
  {
   "cell_type": "markdown",
   "metadata": {},
   "source": [
    "In a Stroop task, participants are presented with a list of words, with each word displayed in a color of ink. The participant’s task is to say out loud the color of the ink in which the word is printed. The task has two conditions: a congruent words condition, and an incongruent words condition. In the congruent words condition, the words being displayed are color words whose names match the colors in which they are printed: for example RED, BLUE. In the incongruent words condition, the words displayed are color words whose names do not match the colors in which they are printed: for example PURPLE, ORANGE. In each case, we measure the time it takes to name the ink colors in equally-sized lists. Each participant will go through and record a time from each condition."
   ]
  },
  {
   "cell_type": "markdown",
   "metadata": {},
   "source": [
    "## Independent and Dependent variables"
   ]
  },
  {
   "cell_type": "markdown",
   "metadata": {},
   "source": [
    "For each word, there are two characteristics: WHAT the word is, and WHAT COLOR the word is.\n",
    "\n",
    "For our purposes a single independent variable could be defined: Whether these characteristics are *congruent* for the list of words, or not. In other words, *congruence* of words.\n",
    "\n",
    "Our dependent variable is the time it takes for a participant to read all the words in the list."
   ]
  },
  {
   "cell_type": "markdown",
   "metadata": {},
   "source": [
    "## Hypotheses and Statistical Test"
   ]
  },
  {
   "cell_type": "markdown",
   "metadata": {},
   "source": [
    "Our null hypothesis is that means of the incongruent and congruent populations (of reading times) are not statistically different. Alternative hypothesis is that they are statistically different.\n",
    "\n",
    "$H_0: \\mu_i = \\mu_c$\n",
    "\n",
    "$H_1: \\mu_i \\neq \\mu_c$ \n",
    "\n",
    "where\n",
    "\n",
    "$\\mu_i$ is population mean for times in incongruent case and\n",
    "\n",
    "$\\mu_c$ is population mean for times in congruent case.\n",
    "\n",
    "We'll choose a paired one-tailed t-test, with 95% confidence interval."
   ]
  },
  {
   "cell_type": "markdown",
   "metadata": {
    "collapsed": true
   },
   "source": [
    "***Why t-test?*** - We choose a t-test over Z-test, as we don't know the population standard deviation and our sample size is smaller than 30.\n",
    "\n",
    "***Why a paired test?*** - As same subjects are tested twice (one in each sample), we know we can pair the observations of two samples.\n",
    "\n",
    "***Why one tailed?*** - We can assume that having the word colored different than its meaning is always detrimental to reading speed, and not otherwise.\n",
    "\n",
    "***Why 95% CI?*** - We could have chosen 90% or 99% too, this is simply a choice as we don't have any regulations etc. to guide us."
   ]
  },
  {
   "cell_type": "markdown",
   "metadata": {},
   "source": [
    "## Other Assumptions"
   ]
  },
  {
   "cell_type": "markdown",
   "metadata": {},
   "source": [
    "When we decide to use t-test for this study, there are several assumptions:\n",
    "\n",
    "* Dependent variable is continuous (It is time)\n",
    "* Sample is representative of and randomly selected from total population\n",
    "* Data exhibits normal behavior when plotted\n",
    "* Sample size large enough to show normal behavior\n",
    "* Homogeneity of variance (standard deviations of samples are approximately equal)"
   ]
  },
  {
   "cell_type": "markdown",
   "metadata": {},
   "source": [
    "## My Results"
   ]
  },
  {
   "cell_type": "markdown",
   "metadata": {},
   "source": [
    "Congruent task: 09.06 seconds\n",
    "\n",
    "Incongruent task: 14.75 seconds"
   ]
  },
  {
   "cell_type": "markdown",
   "metadata": {},
   "source": [
    "## Dataset"
   ]
  },
  {
   "cell_type": "code",
   "execution_count": 140,
   "metadata": {
    "collapsed": true
   },
   "outputs": [],
   "source": [
    "# importing all necessary packages\n",
    "\n",
    "import csv\n",
    "import numpy as np\n",
    "import pandas as pd\n",
    "from IPython.display import display\n",
    "import matplotlib.pyplot as plt\n",
    "%matplotlib inline\n",
    "\n",
    "# kernel option to see value of multiple statements\n",
    "\n",
    "from IPython.core.interactiveshell import InteractiveShell\n",
    "InteractiveShell.ast_node_interactivity = \"all\"\n",
    "\n",
    "# reading data\n",
    "\n",
    "stroop = pd.read_csv(\"stroopdata.csv\")"
   ]
  },
  {
   "cell_type": "code",
   "execution_count": 141,
   "metadata": {
    "collapsed": false
   },
   "outputs": [
    {
     "data": {
      "text/html": [
       "<div>\n",
       "<table border=\"1\" class=\"dataframe\">\n",
       "  <thead>\n",
       "    <tr style=\"text-align: right;\">\n",
       "      <th></th>\n",
       "      <th>Congruent</th>\n",
       "      <th>Incongruent</th>\n",
       "    </tr>\n",
       "  </thead>\n",
       "  <tbody>\n",
       "    <tr>\n",
       "      <th>0</th>\n",
       "      <td>12.079</td>\n",
       "      <td>19.278</td>\n",
       "    </tr>\n",
       "    <tr>\n",
       "      <th>1</th>\n",
       "      <td>16.791</td>\n",
       "      <td>18.741</td>\n",
       "    </tr>\n",
       "    <tr>\n",
       "      <th>2</th>\n",
       "      <td>9.564</td>\n",
       "      <td>21.214</td>\n",
       "    </tr>\n",
       "  </tbody>\n",
       "</table>\n",
       "</div>"
      ],
      "text/plain": [
       "   Congruent  Incongruent\n",
       "0     12.079       19.278\n",
       "1     16.791       18.741\n",
       "2      9.564       21.214"
      ]
     },
     "execution_count": 141,
     "metadata": {},
     "output_type": "execute_result"
    },
    {
     "data": {
      "text/html": [
       "<div>\n",
       "<table border=\"1\" class=\"dataframe\">\n",
       "  <thead>\n",
       "    <tr style=\"text-align: right;\">\n",
       "      <th></th>\n",
       "      <th>Congruent</th>\n",
       "      <th>Incongruent</th>\n",
       "    </tr>\n",
       "  </thead>\n",
       "  <tbody>\n",
       "    <tr>\n",
       "      <th>21</th>\n",
       "      <td>14.233</td>\n",
       "      <td>17.960</td>\n",
       "    </tr>\n",
       "    <tr>\n",
       "      <th>22</th>\n",
       "      <td>19.710</td>\n",
       "      <td>22.058</td>\n",
       "    </tr>\n",
       "    <tr>\n",
       "      <th>23</th>\n",
       "      <td>16.004</td>\n",
       "      <td>21.157</td>\n",
       "    </tr>\n",
       "  </tbody>\n",
       "</table>\n",
       "</div>"
      ],
      "text/plain": [
       "    Congruent  Incongruent\n",
       "21     14.233       17.960\n",
       "22     19.710       22.058\n",
       "23     16.004       21.157"
      ]
     },
     "execution_count": 141,
     "metadata": {},
     "output_type": "execute_result"
    }
   ],
   "source": [
    "# confirming data is read\n",
    "\n",
    "stroop.head(3)\n",
    "stroop.tail(3)"
   ]
  },
  {
   "cell_type": "code",
   "execution_count": 142,
   "metadata": {
    "collapsed": false
   },
   "outputs": [
    {
     "data": {
      "text/html": [
       "<div>\n",
       "<table border=\"1\" class=\"dataframe\">\n",
       "  <thead>\n",
       "    <tr style=\"text-align: right;\">\n",
       "      <th></th>\n",
       "      <th>Congruent</th>\n",
       "      <th>Incongruent</th>\n",
       "    </tr>\n",
       "  </thead>\n",
       "  <tbody>\n",
       "    <tr>\n",
       "      <th>count</th>\n",
       "      <td>24.000000</td>\n",
       "      <td>24.000000</td>\n",
       "    </tr>\n",
       "    <tr>\n",
       "      <th>mean</th>\n",
       "      <td>14.051125</td>\n",
       "      <td>22.015917</td>\n",
       "    </tr>\n",
       "    <tr>\n",
       "      <th>std</th>\n",
       "      <td>3.559358</td>\n",
       "      <td>4.797057</td>\n",
       "    </tr>\n",
       "    <tr>\n",
       "      <th>min</th>\n",
       "      <td>8.630000</td>\n",
       "      <td>15.687000</td>\n",
       "    </tr>\n",
       "    <tr>\n",
       "      <th>25%</th>\n",
       "      <td>11.895250</td>\n",
       "      <td>18.716750</td>\n",
       "    </tr>\n",
       "    <tr>\n",
       "      <th>50%</th>\n",
       "      <td>14.356500</td>\n",
       "      <td>21.017500</td>\n",
       "    </tr>\n",
       "    <tr>\n",
       "      <th>75%</th>\n",
       "      <td>16.200750</td>\n",
       "      <td>24.051500</td>\n",
       "    </tr>\n",
       "    <tr>\n",
       "      <th>max</th>\n",
       "      <td>22.328000</td>\n",
       "      <td>35.255000</td>\n",
       "    </tr>\n",
       "  </tbody>\n",
       "</table>\n",
       "</div>"
      ],
      "text/plain": [
       "       Congruent  Incongruent\n",
       "count  24.000000    24.000000\n",
       "mean   14.051125    22.015917\n",
       "std     3.559358     4.797057\n",
       "min     8.630000    15.687000\n",
       "25%    11.895250    18.716750\n",
       "50%    14.356500    21.017500\n",
       "75%    16.200750    24.051500\n",
       "max    22.328000    35.255000"
      ]
     },
     "execution_count": 142,
     "metadata": {},
     "output_type": "execute_result"
    }
   ],
   "source": [
    "# summary of dataset\n",
    "\n",
    "stroop.describe()"
   ]
  },
  {
   "cell_type": "markdown",
   "metadata": {},
   "source": [
    "Some quick observations:\n",
    "\n",
    "* We have 24 observations for congruent and incongruent words each.\n",
    "* Mean is 14.05 for congruent and 22.02 for incongruent.\n",
    "* Median (2nd quartile) is 14.36 for congruent and 21.02 for incongruent.\n",
    "\n",
    "In all quartiles and min/max values, incongruent values are higher."
   ]
  },
  {
   "cell_type": "markdown",
   "metadata": {},
   "source": [
    "## Visualizations"
   ]
  },
  {
   "cell_type": "code",
   "execution_count": 143,
   "metadata": {
    "collapsed": false
   },
   "outputs": [
    {
     "data": {
      "text/plain": [
       "<matplotlib.axes._subplots.AxesSubplot at 0xb1879b0>"
      ]
     },
     "execution_count": 143,
     "metadata": {},
     "output_type": "execute_result"
    },
    {
     "data": {
      "text/plain": [
       "<matplotlib.axes._subplots.AxesSubplot at 0xf3ab4a8>"
      ]
     },
     "execution_count": 143,
     "metadata": {},
     "output_type": "execute_result"
    },
    {
     "data": {
      "image/png": "[encoded data removed]",
      "text/plain": [
       "<matplotlib.figure.Figure at 0xb33b780>"
      ]
     },
     "metadata": {},
     "output_type": "display_data"
    },
    {
     "data": {
      "image/png": "[encoded data removed]",
      "text/plain": [
       "<matplotlib.figure.Figure at 0xf300c18>"
      ]
     },
     "metadata": {},
     "output_type": "display_data"
    }
   ],
   "source": [
    "# histogram\n",
    "\n",
    "stroop.plot.hist(title=\"Histogram of speed per congruence\", alpha = 0.7, bins=10)\n",
    "\n",
    "# boxplot\n",
    "\n",
    "stroop.plot.box(title=\"Boxplot of speed per congruence\")"
   ]
  },
  {
   "cell_type": "markdown",
   "metadata": {},
   "source": [
    "In our histogram, we see that congruent and incongruent observations are mostly separated, and incongruent observations are mostly higher.\n",
    "\n",
    "In our boxplot we see similar results, we also see there are two possible outliers in incongruent observations."
   ]
  },
  {
   "cell_type": "markdown",
   "metadata": {},
   "source": [
    "## Hypothesis Testing Using t-test"
   ]
  },
  {
   "cell_type": "markdown",
   "metadata": {},
   "source": [
    "These are the steps that we will follow to perform one-tailed, paired t-test with 95% CI:\n",
    "\n",
    "* Calculating the difference for each observation pair\n",
    "* Calculating mean difference\n",
    "* Calcuating standard deviation of differences\n",
    "* Calculating standard error for the mean difference\n",
    "* Calculate t-statistic\n",
    "* Compare t-statistic of null hypothesis using t-distribution tables\n",
    "* Calculate p-value and decide to reject/fail to reject null hypothesis (using 95% CI)"
   ]
  },
  {
   "cell_type": "code",
   "execution_count": 144,
   "metadata": {
    "collapsed": false
   },
   "outputs": [
    {
     "data": {
      "text/html": [
       "<div>\n",
       "<table border=\"1\" class=\"dataframe\">\n",
       "  <thead>\n",
       "    <tr style=\"text-align: right;\">\n",
       "      <th></th>\n",
       "      <th>Congruent</th>\n",
       "      <th>Incongruent</th>\n",
       "      <th>Difference</th>\n",
       "    </tr>\n",
       "  </thead>\n",
       "  <tbody>\n",
       "    <tr>\n",
       "      <th>0</th>\n",
       "      <td>12.079</td>\n",
       "      <td>19.278</td>\n",
       "      <td>7.199</td>\n",
       "    </tr>\n",
       "    <tr>\n",
       "      <th>1</th>\n",
       "      <td>16.791</td>\n",
       "      <td>18.741</td>\n",
       "      <td>1.950</td>\n",
       "    </tr>\n",
       "    <tr>\n",
       "      <th>2</th>\n",
       "      <td>9.564</td>\n",
       "      <td>21.214</td>\n",
       "      <td>11.650</td>\n",
       "    </tr>\n",
       "  </tbody>\n",
       "</table>\n",
       "</div>"
      ],
      "text/plain": [
       "   Congruent  Incongruent  Difference\n",
       "0     12.079       19.278       7.199\n",
       "1     16.791       18.741       1.950\n",
       "2      9.564       21.214      11.650"
      ]
     },
     "execution_count": 144,
     "metadata": {},
     "output_type": "execute_result"
    }
   ],
   "source": [
    "# adding difference column to stroop dataframe\n",
    "\n",
    "stroop_new['Difference'] = stroop['Incongruent'] - stroop['Congruent']\n",
    "stroop_new.head(3)"
   ]
  },
  {
   "cell_type": "markdown",
   "metadata": {},
   "source": [
    "$d_i = i_i - c_i$ "
   ]
  },
  {
   "cell_type": "code",
   "execution_count": 145,
   "metadata": {
    "collapsed": false
   },
   "outputs": [],
   "source": [
    "# calculating mean and standard deviation of differences\n",
    "\n",
    "mean_diff = stroop_new['Difference'].mean()\n",
    "std_diff = stroop_new['Difference'].std()"
   ]
  },
  {
   "cell_type": "markdown",
   "metadata": {},
   "source": [
    "$\\bar{d} = 7.965$\n",
    "\n",
    "$\\sigma_d = 4.865$"
   ]
  },
  {
   "cell_type": "code",
   "execution_count": 146,
   "metadata": {
    "collapsed": false
   },
   "outputs": [],
   "source": [
    "# calculating standard error of mean\n",
    "\n",
    "se_mean = std_diff / len(stroop_new)**(0.5)"
   ]
  },
  {
   "cell_type": "markdown",
   "metadata": {},
   "source": [
    "$SE(\\bar{d}) = \\frac{\\sigma_d}{\\sqrt{n}} = 0.993$"
   ]
  },
  {
   "cell_type": "code",
   "execution_count": 147,
   "metadata": {
    "collapsed": false
   },
   "outputs": [],
   "source": [
    "# calculating t-statistic\n",
    "\n",
    "t_stat = mean_diff / se_mean"
   ]
  },
  {
   "cell_type": "markdown",
   "metadata": {},
   "source": [
    "$T = \\frac{\\bar{d}}{SE(\\bar{d})} = 8.021$\n",
    "\n",
    "with 23 degree of freedom."
   ]
  },
  {
   "cell_type": "markdown",
   "metadata": {},
   "source": [
    "Using t-table, our p value is smaller than 0.00001. The probability is smaller than p value of 0.05 (95% confidence interval, one-tailed). Thus we can conclude this result is significant."
   ]
  },
  {
   "cell_type": "markdown",
   "metadata": {},
   "source": [
    "## Conclusion"
   ]
  },
  {
   "cell_type": "markdown",
   "metadata": {},
   "source": [
    "We decide to *reject* the null hypothesis, and decide that **incongruent words cause reading times to be higher**.\n",
    "\n",
    "This result is in accordance with our expectations before we start the study.\n",
    "\n",
    "If we take a guess at why this phenomena happens, we can suggest that brain processes colors faster than it reads and processes words, thus causing us to be slower voicing the words.\n",
    "\n",
    "Another guess is that brain does more work when the words are incongruent, i.e. reading the word AND processing the color vs. only reading the word.\n",
    "\n",
    "One example coming to mind is \"head bobble\". This gesture can sometimes be used as encouragement or acknowledgement in India, in contrast with most Western countries. A task could be created that the subject converses with an experimenter, who uses head gestures in a way subject is not accustomed to (incongruent). Compared to subjects being given congruent head gestures, their response time to in conversations are likely to be slower.\n",
    "\n",
    "Another example could be reversing the movements of the cursor depending on the mouse movements: cursor goes left when mouse goes right etc. It could take much longer to accomplish even simpler tasks."
   ]
  },
  {
   "cell_type": "markdown",
   "metadata": {},
   "source": [
    "## References"
   ]
  },
  {
   "cell_type": "markdown",
   "metadata": {},
   "source": [
    "https://www.udacity.com<br>\n",
    "https://en.wikipedia.org/wiki/Stroop_effect<br>\n",
    "https://www.linkedin.com/pulse/z-test-vs-t-test-arunmozhi-ilango<br>\n",
    "http://www.investopedia.com/ask/answers/073115/what-assumptions-are-made-when-conducting-ttest.asp<br>\n",
    "http://www.statstutor.ac.uk/resources/uploaded/paired-t-test.pdf<br>\n",
    "https://statistics.laerd.com/statistical-guides/independent-t-test-statistical-guide.php<br>\n",
    "http://www.sjsu.edu/faculty/gerstman/StatPrimer/t-table.pdf<br>\n",
    "http://csrgxtu.github.io/2015/03/20/Writing-Mathematic-Fomulars-in-Markdown/<br>\n",
    "https://en.wikipedia.org/wiki/Head_bobble<br>"
   ]
  }
 ],
 "metadata": {
  "kernelspec": {
   "display_name": "Python 2",
   "language": "python",
   "name": "python2"
  },
  "language_info": {
   "codemirror_mode": {
    "name": "ipython",
    "version": 2
   },
   "file_extension": ".py",
   "mimetype": "text/x-python",
   "name": "python",
   "nbconvert_exporter": "python",
   "pygments_lexer": "ipython2",
   "version": "2.7.13"
  }
 },
 "nbformat": 4,
 "nbformat_minor": 2
}
